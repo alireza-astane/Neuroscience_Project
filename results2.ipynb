{
 "cells": [
  {
   "cell_type": "code",
   "execution_count": 1,
   "metadata": {},
   "outputs": [],
   "source": [
    "import matplotlib.pyplot as plt \n",
    "import numpy as np \n",
    "import torch \n",
    "import model"
   ]
  },
  {
   "cell_type": "code",
   "execution_count": 2,
   "metadata": {},
   "outputs": [
    {
     "name": "stdout",
     "output_type": "stream",
     "text": [
      "0.1\n"
     ]
    },
    {
     "name": "stderr",
     "output_type": "stream",
     "text": [
      "100%|██████████| 99999/99999 [51:06<00:00, 32.61it/s]\n"
     ]
    },
    {
     "name": "stdout",
     "output_type": "stream",
     "text": [
      "1.3250000000000002\n"
     ]
    },
    {
     "name": "stderr",
     "output_type": "stream",
     "text": [
      "100%|██████████| 99999/99999 [51:23<00:00, 32.43it/s]\n"
     ]
    },
    {
     "name": "stdout",
     "output_type": "stream",
     "text": [
      "2.5500000000000003\n"
     ]
    },
    {
     "name": "stderr",
     "output_type": "stream",
     "text": [
      "  0%|          | 90/99999 [00:02<50:17, 33.11it/s]  \n"
     ]
    },
    {
     "ename": "KeyboardInterrupt",
     "evalue": "",
     "output_type": "error",
     "traceback": [
      "\u001b[0;31m---------------------------------------------------------------------------\u001b[0m",
      "\u001b[0;31mKeyboardInterrupt\u001b[0m                         Traceback (most recent call last)",
      "Cell \u001b[0;32mIn[2], line 10\u001b[0m\n\u001b[1;32m      8\u001b[0m f \u001b[38;5;241m=\u001b[39m fs[i]\n\u001b[1;32m      9\u001b[0m \u001b[38;5;28mprint\u001b[39m(f)\n\u001b[0;32m---> 10\u001b[0m \u001b[43mmodel\u001b[49m\u001b[38;5;241;43m.\u001b[39;49m\u001b[43mrun\u001b[49m\u001b[43m(\u001b[49m\u001b[43mN\u001b[49m\u001b[43m,\u001b[49m\u001b[43mf\u001b[49m\u001b[43m,\u001b[49m\u001b[43mdt\u001b[49m\u001b[43m,\u001b[49m\u001b[43mT\u001b[49m\u001b[43m,\u001b[49m\u001b[43mw_in\u001b[49m\u001b[43m)\u001b[49m\n",
      "File \u001b[0;32m~/Desktop/NeuroProject/model.py:95\u001b[0m, in \u001b[0;36mrun\u001b[0;34m(N, f, dt, T, w_in)\u001b[0m\n\u001b[1;32m     91\u001b[0m Switch \u001b[38;5;241m=\u001b[39m Sleep \u001b[38;5;241m<\u001b[39m \u001b[38;5;241m0\u001b[39m\n\u001b[1;32m     93\u001b[0m t \u001b[38;5;241m=\u001b[39m step \u001b[38;5;241m*\u001b[39m dt\n\u001b[0;32m---> 95\u001b[0m dU \u001b[38;5;241m=\u001b[39m \u001b[43mU_dot\u001b[49m\u001b[43m(\u001b[49m\u001b[43mt\u001b[49m\u001b[43m,\u001b[49m\u001b[43m \u001b[49m\u001b[43mU\u001b[49m\u001b[43m,\u001b[49m\u001b[43m \u001b[49m\u001b[43mspikes\u001b[49m\u001b[43m)\u001b[49m \u001b[38;5;241m*\u001b[39m dt\n\u001b[1;32m     96\u001b[0m dV \u001b[38;5;241m=\u001b[39m V_dot(V, t, U, spikes) \u001b[38;5;241m*\u001b[39m dt\n\u001b[1;32m     98\u001b[0m U[:, step \u001b[38;5;241m+\u001b[39m \u001b[38;5;241m1\u001b[39m, :] \u001b[38;5;241m=\u001b[39m U[:, step, :] \u001b[38;5;241m+\u001b[39m dU\n",
      "File \u001b[0;32m~/Desktop/NeuroProject/model.py:79\u001b[0m, in \u001b[0;36mrun.<locals>.U_dot\u001b[0;34m(t, U, spikes)\u001b[0m\n\u001b[1;32m     76\u001b[0m \u001b[38;5;28;01mdef\u001b[39;00m\u001b[38;5;250m \u001b[39m\u001b[38;5;21mV_dot\u001b[39m(V, t, U, spikes):\n\u001b[1;32m     77\u001b[0m     \u001b[38;5;28;01mreturn\u001b[39;00m \u001b[38;5;241m-\u001b[39m(V \u001b[38;5;241m-\u001b[39m V_r) \u001b[38;5;241m/\u001b[39m (R \u001b[38;5;241m*\u001b[39m C) \u001b[38;5;241m+\u001b[39m get_I_ext(t) \u001b[38;5;241m/\u001b[39m C \u001b[38;5;241m+\u001b[39m get_I_in(t, U, spikes) \u001b[38;5;241m/\u001b[39m C\n\u001b[0;32m---> 79\u001b[0m \u001b[38;5;28;01mdef\u001b[39;00m\u001b[38;5;250m \u001b[39m\u001b[38;5;21mU_dot\u001b[39m(t, U, spikes):\n\u001b[1;32m     80\u001b[0m     U_dot \u001b[38;5;241m=\u001b[39m torch\u001b[38;5;241m.\u001b[39mzeros((N, \u001b[38;5;241m6\u001b[39m), device\u001b[38;5;241m=\u001b[39mdevice, dtype\u001b[38;5;241m=\u001b[39mdtype)\n\u001b[1;32m     81\u001b[0m     step \u001b[38;5;241m=\u001b[39m \u001b[38;5;28mint\u001b[39m(t \u001b[38;5;241m/\u001b[39m dt)\n",
      "\u001b[0;31mKeyboardInterrupt\u001b[0m: "
     ]
    }
   ],
   "source": [
    "N = 300\n",
    "dt = 0.0001\n",
    "T = 10\n",
    "w_in = 50 * 10**-12\n",
    "\n",
    "fs = np.linspace(0.1,5,5)\n",
    "for i in range(2,fs.shape[0]):\n",
    "    f = fs[i]\n",
    "    print(f)\n",
    "    model.run(N,f,dt,T,w_in)\n",
    "    "
   ]
  },
  {
   "cell_type": "code",
   "execution_count": null,
   "metadata": {},
   "outputs": [],
   "source": []
  }
 ],
 "metadata": {
  "kernelspec": {
   "display_name": "base",
   "language": "python",
   "name": "python3"
  },
  "language_info": {
   "codemirror_mode": {
    "name": "ipython",
    "version": 3
   },
   "file_extension": ".py",
   "mimetype": "text/x-python",
   "name": "python",
   "nbconvert_exporter": "python",
   "pygments_lexer": "ipython3",
   "version": "3.11.3"
  }
 },
 "nbformat": 4,
 "nbformat_minor": 2
}
