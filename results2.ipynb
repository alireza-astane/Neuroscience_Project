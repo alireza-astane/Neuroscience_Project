{
 "cells": [
  {
   "cell_type": "code",
   "execution_count": 1,
   "metadata": {},
   "outputs": [],
   "source": [
    "import matplotlib.pyplot as plt \n",
    "import numpy as np \n",
    "import torch \n",
    "import model\n",
    "import glob \n",
    "import scipy "
   ]
  },
  {
   "cell_type": "code",
   "execution_count": 2,
   "metadata": {},
   "outputs": [],
   "source": [
    "N = 300\n",
    "dt = 0.0001\n",
    "T = 10\n",
    "w_in = 50 * 10**-12\n",
    "\n",
    "fs = np.linspace(0.1,5,5)\n",
    "\n",
    "    "
   ]
  },
  {
   "cell_type": "code",
   "execution_count": 3,
   "metadata": {},
   "outputs": [
    {
     "name": "stderr",
     "output_type": "stream",
     "text": [
      "  2%|▏         | 2176/99999 [01:57<1:28:20, 18.46it/s]\n"
     ]
    },
    {
     "ename": "KeyboardInterrupt",
     "evalue": "",
     "output_type": "error",
     "traceback": [
      "\u001b[0;31m---------------------------------------------------------------------------\u001b[0m",
      "\u001b[0;31mKeyboardInterrupt\u001b[0m                         Traceback (most recent call last)",
      "Cell \u001b[0;32mIn[3], line 2\u001b[0m\n\u001b[1;32m      1\u001b[0m f1 \u001b[38;5;241m=\u001b[39m fs[\u001b[38;5;241m0\u001b[39m]\n\u001b[0;32m----> 2\u001b[0m spikes1 \u001b[38;5;241m=\u001b[39m \u001b[43mmodel\u001b[49m\u001b[38;5;241;43m.\u001b[39;49m\u001b[43mrun\u001b[49m\u001b[43m(\u001b[49m\u001b[43mN\u001b[49m\u001b[43m,\u001b[49m\u001b[43mf1\u001b[49m\u001b[43m,\u001b[49m\u001b[43mdt\u001b[49m\u001b[43m,\u001b[49m\u001b[43mT\u001b[49m\u001b[43m,\u001b[49m\u001b[43mw_in\u001b[49m\u001b[43m)\u001b[49m\n",
      "File \u001b[0;32m~/Desktop/NeuroProject/model.py:96\u001b[0m, in \u001b[0;36mrun\u001b[0;34m(N, f, dt, T, w_in)\u001b[0m\n\u001b[1;32m     93\u001b[0m t \u001b[38;5;241m=\u001b[39m step \u001b[38;5;241m*\u001b[39m dt\n\u001b[1;32m     95\u001b[0m dU \u001b[38;5;241m=\u001b[39m U_dot(t, U) \u001b[38;5;241m*\u001b[39m dt\n\u001b[0;32m---> 96\u001b[0m dV \u001b[38;5;241m=\u001b[39m \u001b[43mV_dot\u001b[49m\u001b[43m(\u001b[49m\u001b[43mV\u001b[49m\u001b[43m,\u001b[49m\u001b[43m \u001b[49m\u001b[43mt\u001b[49m\u001b[43m,\u001b[49m\u001b[43m \u001b[49m\u001b[43mU\u001b[49m\u001b[43m,\u001b[49m\u001b[43m \u001b[49m\u001b[43mspikes\u001b[49m\u001b[43m)\u001b[49m \u001b[38;5;241m*\u001b[39m dt\n\u001b[1;32m     98\u001b[0m U[:, step \u001b[38;5;241m+\u001b[39m \u001b[38;5;241m1\u001b[39m, :] \u001b[38;5;241m=\u001b[39m U[:, step, :] \u001b[38;5;241m+\u001b[39m dU\n\u001b[1;32m    100\u001b[0m V \u001b[38;5;241m+\u001b[39m\u001b[38;5;241m=\u001b[39m dV \u001b[38;5;241m*\u001b[39m Switch\n",
      "File \u001b[0;32m~/Desktop/NeuroProject/model.py:77\u001b[0m, in \u001b[0;36mrun.<locals>.V_dot\u001b[0;34m(V, t, U, spikes)\u001b[0m\n\u001b[1;32m     76\u001b[0m \u001b[38;5;28;01mdef\u001b[39;00m\u001b[38;5;250m \u001b[39m\u001b[38;5;21mV_dot\u001b[39m(V, t, U, spikes):\n\u001b[0;32m---> 77\u001b[0m     \u001b[38;5;28;01mreturn\u001b[39;00m \u001b[38;5;241m-\u001b[39m(V \u001b[38;5;241m-\u001b[39m V_r) \u001b[38;5;241m/\u001b[39m (R \u001b[38;5;241m*\u001b[39m C) \u001b[38;5;241m+\u001b[39m \u001b[43mget_I_ext\u001b[49m\u001b[43m(\u001b[49m\u001b[43mt\u001b[49m\u001b[43m)\u001b[49m \u001b[38;5;241m/\u001b[39m C \u001b[38;5;241m+\u001b[39m get_I_in(t, U, spikes) \u001b[38;5;241m/\u001b[39m C\n",
      "File \u001b[0;32m~/Desktop/NeuroProject/model.py:56\u001b[0m, in \u001b[0;36mrun.<locals>.get_I_ext\u001b[0;34m(t)\u001b[0m\n\u001b[1;32m     53\u001b[0m fired \u001b[38;5;241m=\u001b[39m torch\u001b[38;5;241m.\u001b[39mzeros((N, time_steps), device\u001b[38;5;241m=\u001b[39mdevice, dtype\u001b[38;5;241m=\u001b[39mdtype)\n\u001b[1;32m     54\u001b[0m fired[:, :step] \u001b[38;5;241m=\u001b[39m poisson_I[:, :step]\n\u001b[1;32m     55\u001b[0m \u001b[38;5;28;01mreturn\u001b[39;00m w_e \u001b[38;5;241m*\u001b[39m torch\u001b[38;5;241m.\u001b[39msum(\n\u001b[0;32m---> 56\u001b[0m     (\u001b[43mtorch\u001b[49m\u001b[38;5;241;43m.\u001b[39;49m\u001b[43mexp\u001b[49m\u001b[43m(\u001b[49m\u001b[43m(\u001b[49m\u001b[38;5;241;43m-\u001b[39;49m\u001b[43m(\u001b[49m\u001b[43mt\u001b[49m\u001b[43m \u001b[49m\u001b[38;5;241;43m-\u001b[39;49m\u001b[43m \u001b[49m\u001b[43mt_span\u001b[49m\u001b[43m \u001b[49m\u001b[38;5;241;43m*\u001b[39;49m\u001b[43m \u001b[49m\u001b[43mpoisson_I\u001b[49m\u001b[43m)\u001b[49m\u001b[43m \u001b[49m\u001b[38;5;241;43m/\u001b[39;49m\u001b[43m \u001b[49m\u001b[43mtau_s\u001b[49m\u001b[43m)\u001b[49m\u001b[43m \u001b[49m\u001b[38;5;241;43m*\u001b[39;49m\u001b[43m \u001b[49m\u001b[43mfired\u001b[49m\u001b[43m)\u001b[49m \u001b[38;5;241m*\u001b[39m fired), dim\u001b[38;5;241m=\u001b[39m\u001b[38;5;241m1\u001b[39m\n\u001b[1;32m     57\u001b[0m )\n",
      "\u001b[0;31mKeyboardInterrupt\u001b[0m: "
     ]
    }
   ],
   "source": [
    "f1 = fs[0]\n",
    "spikes1 = model.run(N,f1,dt,T,w_in)"
   ]
  },
  {
   "cell_type": "code",
   "execution_count": null,
   "metadata": {},
   "outputs": [],
   "source": [
    "f2 = fs[1]\n",
    "spikes2 = model.run(N,f2,dt,T,w_in)"
   ]
  },
  {
   "cell_type": "code",
   "execution_count": null,
   "metadata": {},
   "outputs": [],
   "source": [
    "f3 = fs[2]\n",
    "spikes3 = model.run(N,f3,dt,T,w_in)"
   ]
  },
  {
   "cell_type": "code",
   "execution_count": null,
   "metadata": {},
   "outputs": [],
   "source": [
    "f4 = fs[3]\n",
    "spikes4 = model.run(N,f4,dt,T,w_in)"
   ]
  },
  {
   "cell_type": "code",
   "execution_count": null,
   "metadata": {},
   "outputs": [
    {
     "name": "stderr",
     "output_type": "stream",
     "text": [
      "  0%|          | 118/99999 [00:05<1:30:33, 18.38it/s]"
     ]
    }
   ],
   "source": [
    "f5 = fs[4]\n",
    "spikes5 = model.run(N,f5,dt,T,w_in)"
   ]
  },
  {
   "cell_type": "markdown",
   "metadata": {},
   "source": [
    "# Load datas"
   ]
  },
  {
   "cell_type": "code",
   "execution_count": 43,
   "metadata": {},
   "outputs": [],
   "source": [
    "w_in_list =[]\n",
    "fs_list = []\n",
    "for add in glob.glob(\"./data0/*.pt\"):\n",
    "    if add.split(\"_\")[3] == \"50.0.pt\":\n",
    "        fs_list.append(add)\n",
    "    else:\n",
    "        w_in_list.append(add)\n"
   ]
  },
  {
   "cell_type": "code",
   "execution_count": 44,
   "metadata": {},
   "outputs": [],
   "source": [
    "N_values = [i for i in range(300,1100,100)]\n",
    "Ns = [[],[],[],[],[],[],[],[]]\n",
    "for add in glob.glob(\"./data/*.pt\"):\n",
    "    Ns[N_values.index(int(add.split(\"_\")[0].split(\"/\")[2]))].append(add)"
   ]
  },
  {
   "cell_type": "code",
   "execution_count": 115,
   "metadata": {},
   "outputs": [
    {
     "data": {
      "text/plain": [
       "tensor([[1., 0., 0.,  ..., 0., 0., 0.],\n",
       "        [1., 0., 0.,  ..., 0., 0., 0.],\n",
       "        [1., 0., 0.,  ..., 0., 0., 0.],\n",
       "        ...,\n",
       "        [1., 0., 0.,  ..., 0., 0., 0.],\n",
       "        [1., 0., 0.,  ..., 0., 0., 0.],\n",
       "        [1., 0., 0.,  ..., 0., 0., 0.]], device='cuda:0', dtype=torch.float64)"
      ]
     },
     "execution_count": 115,
     "metadata": {},
     "output_type": "execute_result"
    }
   ],
   "source": [
    "spikes = torch.load(Ns[-1][0]).type(torch.float64)\n",
    "spikes\n"
   ]
  },
  {
   "cell_type": "code",
   "execution_count": 122,
   "metadata": {},
   "outputs": [
    {
     "name": "stdout",
     "output_type": "stream",
     "text": [
      "num spikes :  tensor(1247471., dtype=torch.float64)\n"
     ]
    },
    {
     "data": {
      "image/png": "[encoded data removed]",
      "text/plain": [
       "<Figure size 640x480 with 1 Axes>"
      ]
     },
     "metadata": {},
     "output_type": "display_data"
    },
    {
     "data": {
      "image/png": "[encoded data removed]",
      "text/plain": [
       "<Figure size 640x480 with 1 Axes>"
      ]
     },
     "metadata": {},
     "output_type": "display_data"
    },
    {
     "name": "stdout",
     "output_type": "stream",
     "text": [
      "tensor(62.3736, dtype=torch.float64)\n",
      "nan\n"
     ]
    },
    {
     "name": "stderr",
     "output_type": "stream",
     "text": [
      "/home/alireza-astane/anaconda3/lib/python3.11/site-packages/scipy/stats/_stats_mstats_common.py:182: RuntimeWarning: invalid value encountered in scalar divide\n",
      "  slope = ssxym / ssxm\n",
      "/home/alireza-astane/anaconda3/lib/python3.11/site-packages/scipy/stats/_stats_mstats_common.py:196: RuntimeWarning: invalid value encountered in sqrt\n",
      "  t = r * np.sqrt(df / ((1.0 - r + TINY)*(1.0 + r + TINY)))\n",
      "/home/alireza-astane/anaconda3/lib/python3.11/site-packages/scipy/stats/_stats_mstats_common.py:199: RuntimeWarning: invalid value encountered in scalar divide\n",
      "  slope_stderr = np.sqrt((1 - r**2) * ssym / ssxm / df)\n"
     ]
    }
   ],
   "source": [
    "\n",
    "\n",
    "print(\"num spikes : \", torch.sum(spikes).cpu())\n",
    "time_steps = spikes.shape[1]\n",
    "\n",
    "plt.imshow(spikes[:,:].cpu())\n",
    "plt.show()\n",
    "plt.plot(torch.arange(time_steps)[:],spikes.sum(0)[:].cpu())\n",
    "plt.show()\n",
    "print(spikes.sum(0).mean().cpu())\n",
    "\n",
    "\n",
    "\n",
    "avalanch = spikes.sum(0) != 0\n",
    "slippingR = avalanch.roll(+1)\n",
    "slippingL = avalanch.roll(-1)\n",
    "slippingR[0] = False\n",
    "slippingL[-1] = False\n",
    "\n",
    "ends  = torch.logical_xor( avalanch ,(avalanch *slippingL))\n",
    "starts  = torch.logical_xor( avalanch ,(avalanch *slippingR))\n",
    "\n",
    "spikes_sum = torch.cumsum(spikes.sum(dim = 0),dim = 0)\n",
    "\n",
    "avalanches_size = spikes_sum[torch.where(ends)[0]] - spikes_sum[torch.where(starts)[0]] + 1\n",
    "\n",
    "nbins = 20\n",
    "bins = np.exp(np.linspace(np.log(avalanches_size.cpu().min()), np.log(avalanches_size.cpu().max()) , nbins))\n",
    "# bins = 50\n",
    "freq,size = np.histogram(avalanches_size.cpu(),bins = bins)\n",
    "size = (size[:-1] + size[1:])/2\n",
    "\n",
    "slope , intercept, rvalue ,_,_= scipy.stats.linregress(np.log(size[freq != 0]),np.log(freq[freq != 0]))\n",
    "print(slope)\n",
    "\n"
   ]
  },
  {
   "cell_type": "code",
   "execution_count": 134,
   "metadata": {},
   "outputs": [
    {
     "data": {
      "text/plain": [
       "tensor(1, device='cuda:0')"
      ]
     },
     "execution_count": 134,
     "metadata": {},
     "output_type": "execute_result"
    }
   ],
   "source": [
    "avalanches_steps.max()"
   ]
  },
  {
   "cell_type": "code",
   "execution_count": 124,
   "metadata": {},
   "outputs": [
    {
     "data": {
      "image/png": "[encoded data removed]",
      "text/plain": [
       "<Figure size 640x480 with 1 Axes>"
      ]
     },
     "metadata": {},
     "output_type": "display_data"
    }
   ],
   "source": [
    "\n",
    "\n",
    "plt.scatter(np.log(size[freq != 0]),np.log(freq[freq != 0]))\n",
    "plt.plot([np.log(size[freq != 0])[0],np.log(size[freq != 0][-1])],[intercept,intercept + slope * np.log(size[freq != 0][-1])])\n",
    "# plt.text(6,4,f\"slope = {np.round(slope,3)}\")\n",
    "plt.show()\n",
    "\n",
    "\n",
    "\n",
    "\n"
   ]
  },
  {
   "cell_type": "code",
   "execution_count": 120,
   "metadata": {},
   "outputs": [
    {
     "name": "stdout",
     "output_type": "stream",
     "text": [
      "nan\n"
     ]
    },
    {
     "data": {
      "image/png": "[encoded data removed]",
      "text/plain": [
       "<Figure size 640x480 with 1 Axes>"
      ]
     },
     "metadata": {},
     "output_type": "display_data"
    }
   ],
   "source": [
    "\n",
    "avalanches_steps = torch.where(ends) [0] -   torch.where(starts)[0] + 1\n",
    "\n",
    "\n",
    "# nbins = 10\n",
    "# bins = np.exp(np.linspace(np.log(avalanches_size.cpu().min()), np.log(avalanches_size.cpu().max()) , nbins))\n",
    "bins = 50\n",
    "freq,size = np.histogram(avalanches_steps.cpu(),bins = 10)\n",
    "size = (size[:-1] + size[1:])/2\n",
    "\n",
    "\n",
    "slope , intercept, rvalue ,_,_= scipy.stats.linregress(np.log(size[freq != 0]),np.log(freq[freq != 0]))\n",
    "print(slope)\n",
    "\n",
    "\n",
    "plt.scatter(np.log(size[freq != 0]),np.log(freq[freq != 0]))\n",
    "plt.plot([np.log(size[freq != 0])[0],np.log(size[freq != 0][-1])],[intercept,intercept + slope * np.log(size[freq != 0][-1])])\n",
    "# plt.text(6,4,f\"slope = {np.round(slope,3)}\")\n",
    "plt.show()"
   ]
  },
  {
   "cell_type": "code",
   "execution_count": 139,
   "metadata": {},
   "outputs": [
    {
     "data": {
      "text/plain": [
       "<matplotlib.collections.PathCollection at 0x7f29c459a810>"
      ]
     },
     "execution_count": 139,
     "metadata": {},
     "output_type": "execute_result"
    },
    {
     "data": {
      "image/png": "[encoded data removed]",
      "text/plain": [
       "<Figure size 640x480 with 1 Axes>"
      ]
     },
     "metadata": {},
     "output_type": "display_data"
    }
   ],
   "source": [
    "\n",
    "plt.scatter(np.arange(spikes.sum(0).shape[0]),spikes.sum(0).cpu())"
   ]
  }
 ],
 "metadata": {
  "kernelspec": {
   "display_name": "base",
   "language": "python",
   "name": "python3"
  },
  "language_info": {
   "codemirror_mode": {
    "name": "ipython",
    "version": 3
   },
   "file_extension": ".py",
   "mimetype": "text/x-python",
   "name": "python",
   "nbconvert_exporter": "python",
   "pygments_lexer": "ipython3",
   "version": "3.11.3"
  }
 },
 "nbformat": 4,
 "nbformat_minor": 2
}
